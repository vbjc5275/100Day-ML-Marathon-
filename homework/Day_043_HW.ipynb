{
 "cells": [
  {
   "cell_type": "markdown",
   "metadata": {},
   "source": [
    "## [作業重點]\n",
    "了解隨機森林改善了決策樹的什麼缺點？是用什麼方法改進的？"
   ]
  },
  {
   "cell_type": "markdown",
   "metadata": {},
   "source": [
    "## 作業\n",
    "\n",
    "閱讀以下兩篇文獻，了解隨機森林原理，並試著回答後續的思考問題\n",
    "- [隨機森林 (random forest) - 中文](http://hhtucode.blogspot.tw/2013/06/ml-random-forest.html)\n",
    "- [how random forest works - 英文](https://medium.com/@Synced/how-random-forest-algorithm-works-in-machine-learning-3c0fe15b6674)"
   ]
  },
  {
   "cell_type": "markdown",
   "metadata": {},
   "source": [
    "\n",
    "1. 隨機森林中的每一棵樹，是希望能夠\n",
    "\n",
    "    - 沒有任何限制，讓樹可以持續生長 (讓樹生成很深，讓模型變得複雜)\n",
    "    \n",
    "    - 不要過度生長，避免 Overfitting\n",
    "    \n",
    "    \n",
    "2. 假設總共有 N 筆資料，每棵樹用取後放回的方式抽了總共 N 筆資料生成，請問這棵樹大約使用了多少 % 不重複的原資料生成?\n",
    "hint: 0.632 bootstrap\n"
   ]
  },
  {
   "cell_type": "markdown",
   "metadata": {},
   "source": [
    "1.樹的數量越多越好，但是深度則視情況而定，倘若太深，容易發生**過擬(Overfitting)**，如果建立模型時為此深度設下最大值，相當於為樹**剪枝**。<br>\n",
    "2.\n",
    "有n個樣本，我們有放回的隨機從中抽取n次。\n",
    "在第一次抽取時，樣本A被選中的概率是$\\frac{1}{n}$，不被選中的概率自然就是\n",
    "$1-\\frac{1}{n}$。每次抽取都是獨立的，所以當抽完n次之後，A一次都沒有被抽中的概率就是\n",
    "\n",
    "$$(1-\\frac{1}{n})^{n}$$\n",
    "\n",
    "這個就是高等數學中那個著名的極限\n",
    "\n",
    "$$\\lim_{n\\rightarrow\\infty}(1-\\frac{1}n)^n=\\frac{1}{e}$$\n",
    "\n",
    "所以當bootstrap樣本總數很大的時候，任意一個樣本被抽中的概率就是\n",
    "$$1-\\frac{1}{e}\\approx1-\\frac{1}{2.71828}\\approx0.632$$\n",
    "一個樣本被抽中的機率是0.632，反過來說沒有被抽中的機率是1-0.632 = 0.368"
   ]
  },
  {
   "cell_type": "code",
   "execution_count": null,
   "metadata": {},
   "outputs": [],
   "source": []
  }
 ],
 "metadata": {
  "kernelspec": {
   "display_name": "Python 3",
   "language": "python",
   "name": "python3"
  },
  "language_info": {
   "codemirror_mode": {
    "name": "ipython",
    "version": 3
   },
   "file_extension": ".py",
   "mimetype": "text/x-python",
   "name": "python",
   "nbconvert_exporter": "python",
   "pygments_lexer": "ipython3",
   "version": "3.7.1"
  }
 },
 "nbformat": 4,
 "nbformat_minor": 2
}
