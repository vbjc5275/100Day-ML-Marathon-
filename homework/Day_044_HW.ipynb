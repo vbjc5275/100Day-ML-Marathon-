{
 "cells": [
  {
   "cell_type": "markdown",
   "metadata": {},
   "source": [
    "## [作業重點]\n",
    "確保你了解隨機森林模型中每個超參數的意義，並觀察調整超參數對結果的影響"
   ]
  },
  {
   "cell_type": "markdown",
   "metadata": {},
   "source": [
    "## 作業\n",
    "\n",
    "1. 試著調整 RandomForestClassifier(...) 中的參數，並觀察是否會改變結果？\n",
    "2. 改用其他資料集 (boston, wine)，並與回歸模型與決策樹的結果進行比較"
   ]
  },
  {
   "cell_type": "code",
   "execution_count": 10,
   "metadata": {},
   "outputs": [],
   "source": [
    "from sklearn import datasets, metrics\n",
    "from sklearn.metrics import mean_squared_error\n",
    "from sklearn.ensemble import RandomForestClassifier,RandomForestRegressor\n",
    "from sklearn.model_selection import train_test_split"
   ]
  },
  {
   "cell_type": "markdown",
   "metadata": {},
   "source": [
    "## 調整隨機森林樹木數量"
   ]
  },
  {
   "cell_type": "code",
   "execution_count": 3,
   "metadata": {},
   "outputs": [
    {
     "name": "stdout",
     "output_type": "stream",
     "text": [
      "Accuracy:  0.9736842105263158\n",
      "Accuracy:  1.0\n",
      "Accuracy:  0.9736842105263158\n",
      "Accuracy:  0.9736842105263158\n",
      "Accuracy:  0.9736842105263158\n",
      "Accuracy:  0.9473684210526315\n",
      "Accuracy:  0.9473684210526315\n",
      "Accuracy:  0.9473684210526315\n",
      "Accuracy:  0.9736842105263158\n",
      "Accuracy:  0.9736842105263158\n",
      "Accuracy:  0.9736842105263158\n",
      "Accuracy:  0.9736842105263158\n",
      "Accuracy:  0.9736842105263158\n",
      "Accuracy:  0.9736842105263158\n",
      "Accuracy:  0.9736842105263158\n"
     ]
    }
   ],
   "source": [
    "# 讀取鳶尾花資料集\n",
    "iris = datasets.load_iris()\n",
    "# 切分訓練集/測試集\n",
    "x_train, x_test, y_train, y_test = train_test_split(iris.data, iris.target, test_size=0.25, random_state=4)\n",
    "\n",
    "for n in range(15,30):\n",
    "    # 建立模型 (使用 20 顆樹，每棵樹的最大深度為 4)\n",
    "    clf = RandomForestClassifier(n_estimators=n, max_depth=4)\n",
    "    # 訓練模型\n",
    "    clf.fit(x_train, y_train)\n",
    "    # 預測測試集\n",
    "    y_pred = clf.predict(x_test)\n",
    "    acc = metrics.accuracy_score(y_test, y_pred)\n",
    "    print(\"Accuracy: \", acc)"
   ]
  },
  {
   "cell_type": "markdown",
   "metadata": {},
   "source": [
    "## 調整隨機森林樹木深度"
   ]
  },
  {
   "cell_type": "code",
   "execution_count": 5,
   "metadata": {},
   "outputs": [
    {
     "name": "stdout",
     "output_type": "stream",
     "text": [
      "Accuracy:  0.9736842105263158\n",
      "Accuracy:  0.9736842105263158\n",
      "Accuracy:  0.9736842105263158\n",
      "Accuracy:  0.9473684210526315\n",
      "Accuracy:  0.9736842105263158\n",
      "Accuracy:  0.9736842105263158\n"
     ]
    }
   ],
   "source": [
    "for d in range(2,8):\n",
    "    clf = RandomForestClassifier(n_estimators=20, max_depth=d)\n",
    "    # 訓練模型\n",
    "    clf.fit(x_train, y_train)\n",
    "    # 預測測試集\n",
    "    y_pred = clf.predict(x_test)\n",
    "    acc = metrics.accuracy_score(y_test, y_pred)\n",
    "    print(\"Accuracy: \", acc)"
   ]
  },
  {
   "cell_type": "markdown",
   "metadata": {},
   "source": [
    "## boston 隨機森林調整樹木棵數(回歸)"
   ]
  },
  {
   "cell_type": "code",
   "execution_count": 11,
   "metadata": {},
   "outputs": [
    {
     "name": "stdout",
     "output_type": "stream",
     "text": [
      "RMSE:  16.153790627317584\n",
      "RMSE:  18.030679007859558\n",
      "RMSE:  18.510568966341992\n",
      "RMSE:  20.765796252673407\n",
      "RMSE:  15.982342799752919\n",
      "RMSE:  16.71863058014165\n",
      "RMSE:  17.440333631771477\n",
      "RMSE:  20.507667764573064\n",
      "RMSE:  19.637541525913978\n",
      "RMSE:  18.54968967168908\n",
      "RMSE:  19.494627893778198\n",
      "RMSE:  16.437855671968876\n",
      "RMSE:  21.57128652171413\n",
      "RMSE:  18.104056584092646\n",
      "RMSE:  18.740454700748714\n"
     ]
    }
   ],
   "source": [
    "# 讀取boston資料集\n",
    "boston = datasets.load_boston()\n",
    "# 切分訓練集/測試集\n",
    "x_train, x_test, y_train, y_test = train_test_split(boston.data, boston.target, test_size=0.25, random_state=4)\n",
    "\n",
    "for n in range(15,30):\n",
    "    clf = RandomForestRegressor(n_estimators=n, max_depth=4)\n",
    "    # 訓練模型\n",
    "    clf.fit(x_train, y_train)\n",
    "    # 預測測試集\n",
    "    y_pred = clf.predict(x_test)\n",
    "    rmse = mean_squared_error(y_test, y_pred)\n",
    "    print(\"RMSE: \", rmse)"
   ]
  },
  {
   "cell_type": "code",
   "execution_count": 13,
   "metadata": {},
   "outputs": [
    {
     "name": "stdout",
     "output_type": "stream",
     "text": [
      "RMSE:  30.831799457641893\n",
      "RMSE:  22.37874438286054\n",
      "RMSE:  18.708423065526002\n",
      "RMSE:  17.61496646156273\n",
      "RMSE:  15.595153815968075\n",
      "RMSE:  14.469091732857734\n",
      "RMSE:  16.694931871619215\n",
      "RMSE:  15.537586820864702\n"
     ]
    }
   ],
   "source": [
    "for d in range(2,10):\n",
    "    clf = RandomForestRegressor(n_estimators=20, max_depth=d)\n",
    "    # 訓練模型\n",
    "    clf.fit(x_train, y_train)\n",
    "    # 預測測試集\n",
    "    y_pred = clf.predict(x_test)\n",
    "    rmse = mean_squared_error(y_test, y_pred)\n",
    "    print(\"RMSE: \", rmse)"
   ]
  }
 ],
 "metadata": {
  "kernelspec": {
   "display_name": "Python 3",
   "language": "python",
   "name": "python3"
  },
  "language_info": {
   "codemirror_mode": {
    "name": "ipython",
    "version": 3
   },
   "file_extension": ".py",
   "mimetype": "text/x-python",
   "name": "python",
   "nbconvert_exporter": "python",
   "pygments_lexer": "ipython3",
   "version": "3.7.1"
  }
 },
 "nbformat": 4,
 "nbformat_minor": 2
}
