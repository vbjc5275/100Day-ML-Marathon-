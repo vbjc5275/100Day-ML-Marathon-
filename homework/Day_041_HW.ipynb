{
 "cells": [
  {
   "cell_type": "markdown",
   "metadata": {},
   "source": [
    "## 作業\n",
    "\n",
    "\n",
    "\n",
    "閱讀以下兩篇文獻，了解決策樹原理，並試著回答後續的問題\n",
    "- [決策樹 (Decision Tree) - 中文](https://medium.com/@yehjames/%E8%B3%87%E6%96%99%E5%88%86%E6%9E%90-%E6%A9%9F%E5%99%A8%E5%AD%B8%E7%BF%92-%E7%AC%AC3-5%E8%AC%9B-%E6%B1%BA%E7%AD%96%E6%A8%B9-decision-tree-%E4%BB%A5%E5%8F%8A%E9%9A%A8%E6%A9%9F%E6%A3%AE%E6%9E%97-random-forest-%E4%BB%8B%E7%B4%B9-7079b0ddfbda)\n",
    "- [how decision tree works - 英文](http://dataaspirant.com/2017/01/30/how-decision-tree-algorithm-works/)\n",
    "\n",
    "1. 在分類問題中，若沒有任何限制，決策樹有辦法在訓練時將 training loss 完全降成 0 嗎？\n",
    "2. 決策樹只能用在分類問題嗎？還是可以用來解決回歸問題？\n"
   ]
  },
  {
   "cell_type": "markdown",
   "metadata": {},
   "source": [
    "1.根據我的理解，訓練模型其實就是最小化損失函數的過程。損失函數（loss function）又叫做代價函數（cost function），是用來評估模型的預測值與真實值不一致的程度，以決策數而言，專門處理分類問題，採取最為簡單的一種損失函數，如果預測值與目標值不相等，說明預測錯誤，輸出值為1；如果預測值與目標值相同，說明預測正確，輸出為0。至於有沒有辦法將訓練損失完全降成0，要視資料集而定，倘若為非線性資料集，大概不可能。<br>\n",
    "2.決策樹分為兩類：分類決策樹與回歸決策樹。回歸樹總體流程類似於分類樹，分枝時窮舉每一個特徵的每一個閾值，來尋找最優切分特徵j和最優切分點s，衡量的方法是平方誤差最小化。分枝直到達到預設的終止條件(如葉子個數上限)就停止。\n",
    "\n"
   ]
  }
 ],
 "metadata": {
  "kernelspec": {
   "display_name": "Python 3",
   "language": "python",
   "name": "python3"
  },
  "language_info": {
   "codemirror_mode": {
    "name": "ipython",
    "version": 3
   },
   "file_extension": ".py",
   "mimetype": "text/x-python",
   "name": "python",
   "nbconvert_exporter": "python",
   "pygments_lexer": "ipython3",
   "version": "3.7.1"
  }
 },
 "nbformat": 4,
 "nbformat_minor": 2
}
