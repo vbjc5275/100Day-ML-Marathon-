{
 "cells": [
  {
   "cell_type": "markdown",
   "metadata": {},
   "source": [
    "## [作業重點]\n",
    "目前你應該已經要很清楚資料集中，資料的型態是什麼樣子囉！包含特徵 (features) 與標籤 (labels)。因此要記得未來不管什麼專案，必須要把資料清理成相同的格式，才能送進模型訓練。\n",
    "今天的作業開始踏入決策樹這個非常重要的模型，請務必確保你理解模型中每個超參數的意思，並試著調整看看，對最終預測結果的影響為何"
   ]
  },
  {
   "cell_type": "markdown",
   "metadata": {},
   "source": [
    "## 作業\n",
    "\n",
    "1. 試著調整 DecisionTreeClassifier(...) 中的參數，並觀察是否會改變結果？\n",
    "2. 改用其他資料集 (boston, wine)，並與回歸模型的結果進行比較"
   ]
  },
  {
   "cell_type": "code",
   "execution_count": 1,
   "metadata": {},
   "outputs": [],
   "source": [
    "from sklearn import datasets, metrics\n",
    "\n",
    "# 如果是分類問題，請使用 DecisionTreeClassifier，若為回歸問題，請使用 DecisionTreeRegressor\n",
    "from sklearn.tree import DecisionTreeClassifier, DecisionTreeRegressor\n",
    "from sklearn.model_selection import train_test_split"
   ]
  },
  {
   "cell_type": "markdown",
   "metadata": {},
   "source": [
    "### DecisionTreeClassifier 在不同的min_samples_split效果"
   ]
  },
  {
   "cell_type": "code",
   "execution_count": 8,
   "metadata": {},
   "outputs": [
    {
     "name": "stdout",
     "output_type": "stream",
     "text": [
      "Acuuracy:  0.9736842105263158\n",
      "Feature importance:  [0.         0.01796599 0.05992368 0.92211033]\n",
      "Acuuracy:  0.9736842105263158\n",
      "Feature importance:  [0.         0.         0.06101997 0.93898003]\n",
      "Acuuracy:  0.9736842105263158\n",
      "Feature importance:  [0.         0.         0.06230224 0.93769776]\n"
     ]
    }
   ],
   "source": [
    "\n",
    "iris = datasets.load_iris()\n",
    "x_train, x_test, y_train, y_test = train_test_split(iris.data, iris.target, test_size=0.25, random_state=4)\n",
    "\n",
    "for split in range(3,6):\n",
    "    clf = DecisionTreeClassifier(min_samples_split = split)\n",
    "    # 訓練模型\n",
    "    clf.fit(x_train, y_train)\n",
    "    # 預測測試集\n",
    "    y_pred = clf.predict(x_test)\n",
    "\n",
    "    acc = metrics.accuracy_score(y_test, y_pred)\n",
    "    print(\"Acuuracy: \", acc)\n",
    "    print(\"Feature importance: \", clf.feature_importances_)"
   ]
  },
  {
   "cell_type": "markdown",
   "metadata": {},
   "source": [
    "###  DecisionTreeClassifier 在不同的min_samples_leaf效果"
   ]
  },
  {
   "cell_type": "code",
   "execution_count": 23,
   "metadata": {},
   "outputs": [
    {
     "name": "stdout",
     "output_type": "stream",
     "text": [
      "Acuuracy:  0.9736842105263158\n",
      "Feature importance:  [0.01796599 0.         0.05992368 0.92211033]\n",
      "Acuuracy:  1.0\n",
      "Feature importance:  [0.01341996 0.         0.06274172 0.92383832]\n",
      "Acuuracy:  0.9736842105263158\n",
      "Feature importance:  [0.00882094 0.         0.06348814 0.92769091]\n",
      "Acuuracy:  0.9736842105263158\n",
      "Feature importance:  [0.01140681 0.         0.05512761 0.93346558]\n",
      "Acuuracy:  0.9736842105263158\n",
      "Feature importance:  [0.0050521 0.        0.0344831 0.9604648]\n"
     ]
    }
   ],
   "source": [
    "iris = datasets.load_iris()\n",
    "x_train, x_test, y_train, y_test = train_test_split(iris.data, iris.target, test_size=0.25, random_state=4)\n",
    "\n",
    "for leaf in range(1,6):\n",
    "    clf = DecisionTreeClassifier(min_samples_leaf = leaf, random_state = 0)\n",
    "    # 訓練模型\n",
    "    clf.fit(x_train, y_train)\n",
    "    # 預測測試集\n",
    "    y_pred = clf.predict(x_test)\n",
    "\n",
    "    acc = metrics.accuracy_score(y_test, y_pred)\n",
    "    print(\"Acuuracy: \", acc)\n",
    "    print(\"Feature importance: \", clf.feature_importances_)"
   ]
  },
  {
   "cell_type": "markdown",
   "metadata": {},
   "source": [
    "### boston"
   ]
  },
  {
   "cell_type": "code",
   "execution_count": 15,
   "metadata": {},
   "outputs": [
    {
     "name": "stdout",
     "output_type": "stream",
     "text": [
      "(379, 13)\n",
      "(127, 13)\n"
     ]
    }
   ],
   "source": [
    "boston = datasets.load_boston()\n",
    "x_train, x_test, y_train, y_test = train_test_split(boston.data, boston.target, test_size=0.25, random_state=4)\n",
    "print(x_train.shape)\n",
    "print(x_test.shape)"
   ]
  },
  {
   "cell_type": "code",
   "execution_count": 24,
   "metadata": {},
   "outputs": [
    {
     "name": "stdout",
     "output_type": "stream",
     "text": [
      "mean_squared_error:  0.02631578947368421\n",
      "mean_squared_error:  0.02631578947368421\n",
      "mean_squared_error:  0.02631578947368421\n",
      "mean_squared_error:  0.02631578947368421\n",
      "mean_squared_error:  0.02631578947368421\n"
     ]
    }
   ],
   "source": [
    "rgr = DecisionTreeRegressor(random_state = 0)\n",
    "# 訓練模型\n",
    "rgr.fit(x_train, y_train)\n",
    "# 預測測試集\n",
    "y_pred = rgr.predict(x_test)\n",
    "\n",
    "rmse = metrics.mean_squared_error(y_test, y_pred)\n",
    "print(\"mean_squared_error: \", rmse)"
   ]
  },
  {
   "cell_type": "markdown",
   "metadata": {},
   "source": [
    "### DecisionTreeRegressor 在不同的min_samples_split效果"
   ]
  },
  {
   "cell_type": "code",
   "execution_count": 27,
   "metadata": {},
   "outputs": [
    {
     "name": "stdout",
     "output_type": "stream",
     "text": [
      "mean_squared_error:  0.02631578947368421\n",
      "mean_squared_error:  0.02631578947368421\n",
      "mean_squared_error:  0.01644736842105263\n",
      "mean_squared_error:  0.01644736842105263\n",
      "mean_squared_error:  0.01644736842105263\n"
     ]
    }
   ],
   "source": [
    "for split in range(3,8):\n",
    "    rgr = DecisionTreeRegressor(min_samples_split=split, random_state=0)\n",
    "    # 訓練模型\n",
    "    rgr.fit(x_train, y_train)\n",
    "    # 預測測試集\n",
    "    y_pred = rgr.predict(x_test)\n",
    "    rmse = metrics.mean_squared_error(y_test, y_pred)\n",
    "    print(\"mean_squared_error: \", rmse)"
   ]
  },
  {
   "cell_type": "markdown",
   "metadata": {},
   "source": [
    "### DecisionTreeRegressor 在不同的min_samples_leaf效果"
   ]
  },
  {
   "cell_type": "code",
   "execution_count": 29,
   "metadata": {},
   "outputs": [
    {
     "name": "stdout",
     "output_type": "stream",
     "text": [
      "mean_squared_error:  0.02631578947368421\n",
      "mean_squared_error:  0.019736842105263157\n",
      "mean_squared_error:  0.022295321637426896\n",
      "mean_squared_error:  0.021842105263157895\n",
      "mean_squared_error:  0.016496710526315787\n",
      "mean_squared_error:  0.01585343567251462\n",
      "mean_squared_error:  0.01573408968850698\n"
     ]
    }
   ],
   "source": [
    "for leaf in range(1,8):\n",
    "    rgr = DecisionTreeRegressor(min_samples_leaf=leaf, random_state=0)\n",
    "    # 訓練模型\n",
    "    rgr.fit(x_train, y_train)\n",
    "    # 預測測試集\n",
    "    y_pred = rgr.predict(x_test)\n",
    "    rmse = metrics.mean_squared_error(y_test, y_pred)\n",
    "    print(\"mean_squared_error: \", rmse)"
   ]
  }
 ],
 "metadata": {
  "kernelspec": {
   "display_name": "Python 3",
   "language": "python",
   "name": "python3"
  },
  "language_info": {
   "codemirror_mode": {
    "name": "ipython",
    "version": 3
   },
   "file_extension": ".py",
   "mimetype": "text/x-python",
   "name": "python",
   "nbconvert_exporter": "python",
   "pygments_lexer": "ipython3",
   "version": "3.7.1"
  }
 },
 "nbformat": 4,
 "nbformat_minor": 2
}
